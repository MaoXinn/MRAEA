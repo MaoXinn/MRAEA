{
 "cells": [
  {
   "cell_type": "code",
   "execution_count": 1,
   "metadata": {},
   "outputs": [
    {
     "name": "stderr",
     "output_type": "stream",
     "text": [
      "Using TensorFlow backend.\n"
     ]
    }
   ],
   "source": [
    "import os\n",
    "import tqdm\n",
    "import numpy as np\n",
    "from utils import *\n",
    "from model import *\n",
    "from keras.backend.tensorflow_backend import set_session\n",
    "\n",
    "\n",
    "os.environ[\"CUDA_VISIBLE_DEVICES\"] = \"0\"\n",
    "os.environ[\"TF_CPP_MIN_LOG_LEVEL\"]=\"2\"\n",
    "tf.compat.v1.logging.set_verbosity(tf.compat.v1.logging.ERROR)\n",
    "\n",
    "config = tf.ConfigProto()  \n",
    "config.gpu_options.allow_growth=True  \n",
    "sess = tf.Session(config=config)  "
   ]
  },
  {
   "cell_type": "code",
   "execution_count": 2,
   "metadata": {},
   "outputs": [
    {
     "name": "stdout",
     "output_type": "stream",
     "text": [
      "30000 343\n"
     ]
    }
   ],
   "source": [
    "train_pair,test_pair,adj_matrix,r_index,r_val,adj_features,rel_features = load_data('data/en_de_15k_V1/mapping/0_3/',train_ratio=0.3)\n",
    "adj_matrix = np.stack(adj_matrix.nonzero(),axis = 1)\n",
    "rel_matrix,rel_val = np.stack(rel_features.nonzero(),axis = 1),rel_features.data\n",
    "ent_matrix,ent_val = np.stack(adj_features.nonzero(),axis = 1),adj_features.data"
   ]
  },
  {
   "cell_type": "code",
   "execution_count": 4,
   "metadata": {},
   "outputs": [
    {
     "name": "stdout",
     "output_type": "stream",
     "text": [
      "__________________________________________________________________________________________________\n",
      "Layer (type)                    Output Shape         Param #     Connected to                     \n",
      "==================================================================================================\n",
      "input_3 (InputLayer)            (None, None)         0                                            \n",
      "__________________________________________________________________________________________________\n",
      "token_embedding_1 (TokenEmbeddi (30000, 100)         3000000     input_3[0][0]                    \n",
      "__________________________________________________________________________________________________\n",
      "token_embedding_2 (TokenEmbeddi (686, 100)           68600       input_3[0][0]                    \n",
      "__________________________________________________________________________________________________\n",
      "input_1 (InputLayer)            (None, None, 2)      0                                            \n",
      "__________________________________________________________________________________________________\n",
      "input_2 (InputLayer)            (None, None, 2)      0                                            \n",
      "__________________________________________________________________________________________________\n",
      "input_4 (InputLayer)            (None, None, 2)      0                                            \n",
      "__________________________________________________________________________________________________\n",
      "input_5 (InputLayer)            (None, None, 2)      0                                            \n",
      "__________________________________________________________________________________________________\n",
      "tr__graph_attention_1 (TR_Graph [(30000, 600), None, 1000        token_embedding_1[0][0]          \n",
      "                                                                 token_embedding_2[0][0]          \n",
      "                                                                 input_1[0][0]                    \n",
      "                                                                 input_2[0][0]                    \n",
      "                                                                 input_3[0][0]                    \n",
      "                                                                 input_4[0][0]                    \n",
      "                                                                 input_5[0][0]                    \n",
      "__________________________________________________________________________________________________\n",
      "dropout_1 (Dropout)             (30000, 600)         0           tr__graph_attention_1[0][0]      \n",
      "__________________________________________________________________________________________________\n",
      "input_6 (InputLayer)            (None, None, 4)      0                                            \n",
      "__________________________________________________________________________________________________\n",
      "lambda_1 (Lambda)               (None, 4, 600)       0           dropout_1[0][0]                  \n",
      "                                                                 input_6[0][0]                    \n",
      "__________________________________________________________________________________________________\n",
      "lambda_2 (Lambda)               (1, 1)               0           lambda_1[0][0]                   \n",
      "==================================================================================================\n",
      "Total params: 3,069,600\n",
      "Trainable params: 3,069,600\n",
      "Non-trainable params: 0\n",
      "__________________________________________________________________________________________________\n"
     ]
    }
   ],
   "source": [
    "node_size = adj_features.shape[1]\n",
    "rel_size = rel_features.shape[1]\n",
    "triple_size = len(adj_matrix)\n",
    "batch_size = node_size\n",
    "model,get_emb = get_model(lr=0.001,dropout_rate=0.30,node_size=node_size,rel_size=rel_size,n_attn_heads = 2,\n",
    "                          depth=2,gamma = 3,node_hidden=100,rel_hidden = 100,triple_size = triple_size,batch_size = batch_size)\n",
    "model.summary();"
   ]
  },
  {
   "cell_type": "code",
   "execution_count": null,
   "metadata": {
    "scrolled": true
   },
   "outputs": [
    {
     "data": {
      "application/vnd.jupyter.widget-view+json": {
       "model_id": "358ebb828da04a51b006e5b3ad40cd5f",
       "version_major": 2,
       "version_minor": 0
      },
      "text/plain": [
       "HBox(children=(IntProgress(value=0, max=5000), HTML(value='')))"
      ]
     },
     "metadata": {},
     "output_type": "display_data"
    },
    {
     "name": "stderr",
     "output_type": "stream",
     "text": [
      "/home/maoxin/anaconda3/lib/python3.6/site-packages/tensorflow_core/python/framework/indexed_slices.py:424: UserWarning: Converting sparse IndexedSlices to a dense Tensor of unknown shape. This may consume a large amount of memory.\n",
      "  \"Converting sparse IndexedSlices to a dense Tensor of unknown shape. \"\n"
     ]
    },
    {
     "name": "stdout",
     "output_type": "stream",
     "text": [
      "For each left:\n",
      "Hits@1: 53.13%\n",
      "Hits@5: 71.85%\n",
      "Hits@10: 78.50%\n",
      "MRR: 0.619\n",
      "For each right:\n",
      "Hits@1: 53.99%\n",
      "Hits@5: 72.63%\n",
      "Hits@10: 79.11%\n",
      "MRR: 0.626\n",
      "\n",
      "For each left:\n",
      "Hits@1: 54.05%\n",
      "Hits@5: 72.50%\n",
      "Hits@10: 78.86%\n",
      "MRR: 0.627\n",
      "For each right:\n",
      "Hits@1: 55.01%\n",
      "Hits@5: 73.25%\n",
      "Hits@10: 79.45%\n",
      "MRR: 0.634\n",
      "\n"
     ]
    }
   ],
   "source": [
    "def get_train_set(batch_size,train_pair):\n",
    "    negative_ratio =  batch_size // len(train_pair) + 1\n",
    "    train_set = np.reshape(np.repeat(np.expand_dims(train_pair,axis=0),axis=0,repeats=negative_ratio),newshape=(-1,2))\n",
    "    np.random.shuffle(train_set); train_set = train_set[:batch_size]\n",
    "    train_set = np.concatenate([train_set,np.random.randint(0,node_size,train_set.shape)],axis = -1)\n",
    "    return train_set\n",
    "\n",
    "def test():\n",
    "    inputs = [adj_matrix,r_index,r_val,rel_matrix,ent_matrix]\n",
    "    inputs = [np.expand_dims(item,axis=0) for item in inputs]\n",
    "    se_vec = get_emb.predict_on_batch(inputs)\n",
    "    get_hits(se_vec,test_pair)\n",
    "    print()\n",
    "    return se_vec\n",
    "\n",
    "for epoch in tqdm.tnrange(5000):\n",
    "    train_set = get_train_set(batch_size,train_pair)\n",
    "    inputs = [adj_matrix,r_index,r_val,rel_matrix,ent_matrix,train_set]\n",
    "    inputs = [np.expand_dims(item,axis=0) for item in inputs]\n",
    "    model.train_on_batch(inputs,np.zeros((1,1)))\n",
    "    if (epoch%1000 == 999):\n",
    "        test()"
   ]
  }
 ],
 "metadata": {
  "kernelspec": {
   "display_name": "Python 3",
   "language": "python",
   "name": "python3"
  },
  "language_info": {
   "codemirror_mode": {
    "name": "ipython",
    "version": 3
   },
   "file_extension": ".py",
   "mimetype": "text/x-python",
   "name": "python",
   "nbconvert_exporter": "python",
   "pygments_lexer": "ipython3",
   "version": "3.6.5"
  }
 },
 "nbformat": 4,
 "nbformat_minor": 2
}
